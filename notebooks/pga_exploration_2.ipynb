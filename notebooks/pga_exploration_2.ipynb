{
 "cells": [
  {
   "cell_type": "markdown",
   "metadata": {},
   "source": [
    "# PGA Modeling Exploration\n",
    "\n",
    "Notebook for the exploration of the PGA data set and first pass evaluation of features, relationships and models"
   ]
  },
  {
   "cell_type": "code",
   "execution_count": 1,
   "metadata": {},
   "outputs": [],
   "source": [
    "import os \n",
    "import numpy as np\n",
    "import pandas as pd\n",
    "\n",
    "import seaborn as sns\n",
    "import matplotlib.pyplot as plt\n",
    "from IPython.core.pylabtools import figsize\n",
    "\n",
    "from workbench.projects.pga.data.stat_downloader import StatDownloader\n",
    "from workbench.projects.pga.data.event_downloader import EventDownloader\n",
    "from workbench.projects.pga.data.data_reader import DataReader\n",
    "\n",
    "from sklearn.preprocessing import MinMaxScaler\n",
    "\n",
    "# Machine Learning Models\n",
    "from sklearn.linear_model import LinearRegression\n",
    "from sklearn.ensemble import RandomForestRegressor, GradientBoostingRegressor\n",
    "from sklearn.svm import SVR\n",
    "from sklearn.neighbors import KNeighborsRegressor\n",
    "\n",
    "# Hyperparameter tuning\n",
    "from sklearn.model_selection import RandomizedSearchCV, GridSearchCV\n",
    "\n",
    "# No warnings about setting value on copy of slice\n",
    "%matplotlib inline\n",
    "sns.set(font_scale = 2)\n",
    "pd.options.mode.chained_assignment = None\n",
    "\n",
    "data_path_base = os.path.join(os.getenv('DATA'), 'pydata', 'projects', \n",
    "                              'pga', 'processed_data')"
   ]
  },
  {
   "cell_type": "markdown",
   "metadata": {},
   "source": [
    "### Read in File and build train/test sets"
   ]
  },
  {
   "cell_type": "code",
   "execution_count": 2,
   "metadata": {},
   "outputs": [
    {
     "data": {
      "text/plain": [
       "Index(['player_name', 'year', 'event_id', 'tourn_id', 'result', 'result_pct',\n",
       "       'end_date', 'rank_127', 'rank_101', 'rank_102', 'rank_103', 'rank_111',\n",
       "       'rank_115', 'rank_104', 'rank_190', 'rank_130', 'rank_398', 'rank_426',\n",
       "       'log_res_pct'],\n",
       "      dtype='object')"
      ]
     },
     "execution_count": 2,
     "metadata": {},
     "output_type": "execute_result"
    }
   ],
   "source": [
    "# Read in from file\n",
    "file_name = 'base_data2.csv'\n",
    "data_csv_path = os.path.join(data_path_base, file_name)\n",
    "base = pd.read_csv(data_csv_path)\n",
    "base.columns"
   ]
  },
  {
   "cell_type": "code",
   "execution_count": 26,
   "metadata": {},
   "outputs": [
    {
     "name": "stdout",
     "output_type": "stream",
     "text": [
      "(23325, 11)\n",
      "(5832, 11)\n",
      "(23325, 1)\n",
      "(5832, 1)\n"
     ]
    }
   ],
   "source": [
    "from sklearn.model_selection import train_test_split\n",
    "feature_cols = [x for x in base.columns if x.find('rank_')==0]\n",
    "features = base[feature_cols].copy()\n",
    "targets = base[['result_pct']].copy()\n",
    "# Split into 70% training and 30% testing set\n",
    "train_features, test_features, train_labels, test_labels = train_test_split(features, targets, test_size = 0.2, random_state = 123)\n",
    "print(train_features.shape)\n",
    "print(test_features.shape)\n",
    "print(train_labels.shape)\n",
    "print(test_labels.shape)"
   ]
  },
  {
   "cell_type": "code",
   "execution_count": 27,
   "metadata": {},
   "outputs": [
    {
     "name": "stdout",
     "output_type": "stream",
     "text": [
      "The baseline guess is a score of 0.85\n",
      "Baseline Performance on the test set: MAE = 0.2907\n"
     ]
    }
   ],
   "source": [
    "# Baseline Using Mean Absolute Error \n",
    "def mae(y_true, y_pred):\n",
    "    return np.mean(abs(y_true - y_pred))\n",
    "baseline_pred = np.median(train_labels)\n",
    "print('The baseline guess is a score of %0.2f' % baseline_pred)\n",
    "print(\"Baseline Performance on the test set: MAE = %0.4f\" % mae(test_labels, baseline_pred))"
   ]
  },
  {
   "cell_type": "code",
   "execution_count": 29,
   "metadata": {},
   "outputs": [
    {
     "data": {
      "text/plain": [
       "Text(0.5, 1.0, 'Finishing Result Distribution')"
      ]
     },
     "execution_count": 29,
     "metadata": {},
     "output_type": "execute_result"
    },
    {
     "data": {
      "image/png": "[encoded data removed]",
      "text/plain": [
       "<Figure size 432x288 with 1 Axes>"
      ]
     },
     "metadata": {},
     "output_type": "display_data"
    }
   ],
   "source": [
    "# Object of this study is to predict the ENERGY Star Score (score in df)\n",
    "figsize(6, 4)\n",
    "\n",
    "# Histogram of the Energy Star Score\n",
    "plt.style.use('fivethirtyeight')\n",
    "plt.hist(train_labels['result_pct'].dropna(), bins = 100)\n",
    "plt.xlabel('Finishing Position')\n",
    "plt.ylabel('Number of Scores');\n",
    "plt.title('Finishing Result Distribution')"
   ]
  },
  {
   "cell_type": "markdown",
   "metadata": {},
   "source": [
    "## Evaluate and Compare ML Models\n",
    "\n",
    "### Scale Features "
   ]
  },
  {
   "cell_type": "code",
   "execution_count": 30,
   "metadata": {},
   "outputs": [],
   "source": [
    "from sklearn.preprocessing import MinMaxScaler\n",
    "\n",
    "# Create the scaler object with a range of 0-1\n",
    "scaler = MinMaxScaler(feature_range=(0, 1))\n",
    "\n",
    "# Fit on the training data\n",
    "scaler.fit(train_features)\n",
    "\n",
    "# Transform both the training and testing data\n",
    "X = scaler.transform(train_features)\n",
    "X_test = scaler.transform(test_features)\n",
    "\n",
    "# Convert y to vector\n",
    "y = np.array(train_labels).reshape(-1)\n",
    "y_test = np.array(test_labels).reshape(-1)"
   ]
  },
  {
   "cell_type": "markdown",
   "metadata": {},
   "source": [
    "# Models to Evaluate\n",
    "Will comapre the following models:\n",
    "1. Linear Regression\n",
    "2. Support Vector Machine Regression\n",
    "3. Random Forest Regression\n",
    "4. Gradient Boosting Regression\n",
    "5. K-Nearest Neighbors Regression\n",
    "\n",
    "Using sklearn defaults for the majority of these models, which should perform decently.  These should be optimized in any real study"
   ]
  },
  {
   "cell_type": "code",
   "execution_count": 31,
   "metadata": {},
   "outputs": [],
   "source": [
    "# Helper function for model eval\n",
    "# Takes in a model, trains the model, and evaluates the model on the test set\n",
    "def fit_and_evaluate(model):\n",
    "    \n",
    "    # Train the model\n",
    "    model.fit(X, y)\n",
    "    \n",
    "    # Make predictions and evalute\n",
    "    model_pred = model.predict(X_test)\n",
    "    model_mae = mae(y_test, model_pred)\n",
    "    \n",
    "    # Return the performance metric\n",
    "    return model_mae"
   ]
  },
  {
   "cell_type": "code",
   "execution_count": 32,
   "metadata": {},
   "outputs": [],
   "source": [
    "# Linear Regression\n",
    "lr = LinearRegression()\n",
    "lr_mae = fit_and_evaluate(lr)\n",
    "\n",
    "# SVM Regression\n",
    "svm = SVR(C = 1000, gamma = 0.1)\n",
    "svm_mae = fit_and_evaluate(svm)\n",
    "\n",
    "# Random Forest\n",
    "random_forest = RandomForestRegressor(random_state=60, n_estimators=20)\n",
    "random_forest_mae = fit_and_evaluate(random_forest)\n",
    "\n",
    "# Gradient Boosted Regression\n",
    "gradient_boosted = GradientBoostingRegressor(random_state=60)\n",
    "gradient_boosted_mae = fit_and_evaluate(gradient_boosted)\n",
    "\n",
    "# K-nearest neighbors regression\n",
    "knn = KNeighborsRegressor(n_neighbors=10)\n",
    "knn_mae = fit_and_evaluate(knn)\n",
    "\n",
    "model_eval_df = pd.DataFrame(data={'MAE':[lr_mae, svm_mae, random_forest_mae, \n",
    "                                          gradient_boosted_mae, knn_mae]},\n",
    "                            index=['LR', 'SVM', 'RF', 'GBR', 'KNNR'])"
   ]
  },
  {
   "cell_type": "code",
   "execution_count": 33,
   "metadata": {},
   "outputs": [
    {
     "name": "stdout",
     "output_type": "stream",
     "text": [
      "           MAE\n",
      "LR    0.289535\n",
      "SVM   0.271392\n",
      "RF    0.277095\n",
      "GBR   0.285446\n",
      "KNNR  0.280098\n"
     ]
    },
    {
     "data": {
      "text/plain": [
       "<matplotlib.axes._subplots.AxesSubplot at 0x1a22bdbe48>"
      ]
     },
     "execution_count": 33,
     "metadata": {},
     "output_type": "execute_result"
    },
    {
     "data": {
      "image/png": "[encoded data removed]",
      "text/plain": [
       "<Figure size 432x288 with 1 Axes>"
      ]
     },
     "metadata": {},
     "output_type": "display_data"
    }
   ],
   "source": [
    "print(model_eval_df)\n",
    "sns.barplot(x=model_eval_df.index, y=model_eval_df.MAE)"
   ]
  },
  {
   "cell_type": "code",
   "execution_count": null,
   "metadata": {},
   "outputs": [],
   "source": []
  }
 ],
 "metadata": {
  "kernelspec": {
   "display_name": "Python 3",
   "language": "python",
   "name": "python3"
  },
  "language_info": {
   "codemirror_mode": {
    "name": "ipython",
    "version": 3
   },
   "file_extension": ".py",
   "mimetype": "text/x-python",
   "name": "python",
   "nbconvert_exporter": "python",
   "pygments_lexer": "ipython3",
   "version": "3.6.7"
  }
 },
 "nbformat": 4,
 "nbformat_minor": 2
}
